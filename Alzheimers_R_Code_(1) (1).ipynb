{
  "nbformat": 4,
  "nbformat_minor": 0,
  "metadata": {
    "colab": {
      "provenance": [],
      "gpuType": "T4"
    },
    "kernelspec": {
      "name": "ir",
      "display_name": "R"
    },
    "language_info": {
      "name": "R"
    },
    "accelerator": "GPU"
  },
  "cells": [
    {
      "cell_type": "markdown",
      "source": [
        "#Import Libraries"
      ],
      "metadata": {
        "id": "HhFXuvH4eEem"
      }
    },
    {
      "cell_type": "code",
      "source": [
        "# Data manipulation\n",
        "library(dplyr)\n",
        "library(tidyr)\n",
        "library(data.table)\n",
        "\n",
        "# Numerical operations\n",
        "library(Matrix)\n",
        "\n",
        "# File operations\n",
        "library(fs)\n",
        "\n",
        "# Visualization\n",
        "library(ggplot2)\n",
        "\n",
        "# Evaluation metrics\n",
        "install.packages(\"Metrics\")\n",
        "library(Metrics)\n",
        "install.packages(\"caret\")\n",
        "library(caret)\n"
      ],
      "metadata": {
        "id": "Uqz9NcJveKFT",
        "colab": {
          "base_uri": "https://localhost:8080/"
        },
        "outputId": "4856ae44-800b-4a5c-db59-572df72f5337"
      },
      "execution_count": null,
      "outputs": [
        {
          "output_type": "stream",
          "name": "stderr",
          "text": [
            "\n",
            "Attaching package: ‘dplyr’\n",
            "\n",
            "\n",
            "The following objects are masked from ‘package:stats’:\n",
            "\n",
            "    filter, lag\n",
            "\n",
            "\n",
            "The following objects are masked from ‘package:base’:\n",
            "\n",
            "    intersect, setdiff, setequal, union\n",
            "\n",
            "\n",
            "\n",
            "Attaching package: ‘data.table’\n",
            "\n",
            "\n",
            "The following objects are masked from ‘package:dplyr’:\n",
            "\n",
            "    between, first, last\n",
            "\n",
            "\n",
            "\n",
            "Attaching package: ‘Matrix’\n",
            "\n",
            "\n",
            "The following objects are masked from ‘package:tidyr’:\n",
            "\n",
            "    expand, pack, unpack\n",
            "\n",
            "\n",
            "Installing package into ‘/usr/local/lib/R/site-library’\n",
            "(as ‘lib’ is unspecified)\n",
            "\n",
            "Installing package into ‘/usr/local/lib/R/site-library’\n",
            "(as ‘lib’ is unspecified)\n",
            "\n",
            "also installing the dependencies ‘listenv’, ‘parallelly’, ‘future’, ‘globals’, ‘shape’, ‘future.apply’, ‘numDeriv’, ‘progressr’, ‘SQUAREM’, ‘diagram’, ‘lava’, ‘prodlim’, ‘proxy’, ‘iterators’, ‘clock’, ‘gower’, ‘hardhat’, ‘ipred’, ‘timeDate’, ‘e1071’, ‘foreach’, ‘ModelMetrics’, ‘plyr’, ‘pROC’, ‘recipes’, ‘reshape2’\n",
            "\n",
            "\n",
            "Loading required package: lattice\n",
            "\n",
            "\n",
            "Attaching package: ‘caret’\n",
            "\n",
            "\n",
            "The following objects are masked from ‘package:Metrics’:\n",
            "\n",
            "    precision, recall\n",
            "\n",
            "\n"
          ]
        }
      ]
    },
    {
      "cell_type": "markdown",
      "source": [
        "#Import Data"
      ],
      "metadata": {
        "id": "67icNzIMeLj3"
      }
    },
    {
      "cell_type": "markdown",
      "source": [
        "##Authorize Account"
      ],
      "metadata": {
        "id": "cRldaPhGeR_E"
      }
    },
    {
      "cell_type": "code",
      "execution_count": null,
      "metadata": {
        "id": "gxotdZ_Bd5q0",
        "colab": {
          "base_uri": "https://localhost:8080/"
        },
        "outputId": "9ea797e4-c48f-415f-a7f8-67aea8ca0233"
      },
      "outputs": [
        {
          "output_type": "stream",
          "name": "stderr",
          "text": [
            "Loading required package: googledrive\n",
            "\n",
            "Loading required package: readr\n",
            "\n",
            "\u001b[1m\u001b[22mIs it OK to cache OAuth access credentials in the folder \u001b[34m~/.cache/gargle\u001b[39m\n",
            "between R sessions?\n",
            "\u001b[1m1\u001b[22m: Yes\n",
            "\u001b[1m2\u001b[22m: No\n"
          ]
        },
        {
          "name": "stdout",
          "output_type": "stream",
          "text": [
            "Selection: 1\n"
          ]
        },
        {
          "output_type": "stream",
          "name": "stderr",
          "text": [
            "Please point your browser to the following url: \n",
            "\n",
            "https://accounts.google.com/o/oauth2/v2/auth?client_id=603366585132-frjlouoa3s2ono25d2l9ukvhlsrlnr7k.apps.googleusercontent.com&scope=https%3A%2F%2Fwww.googleapis.com%2Fauth%2Fdrive%20https%3A%2F%2Fwww.googleapis.com%2Fauth%2Fuserinfo.email&redirect_uri=https%3A%2F%2Fwww.tidyverse.org%2Fgoogle-callback%2F&response_type=code&state=4c64f957da222d492a7691c31cbdbc87&access_type=offline&prompt=consent\n",
            "\n"
          ]
        },
        {
          "name": "stdout",
          "output_type": "stream",
          "text": [
            "Enter authorization code: eyJjb2RlIjoiNC8wQWFuUlJydW9lOWZyWDlaNmNJOXRMeVZKbXJHazVRTlNEczRMTklBRUlueHZWUFJsZFhfaGx6d2lQX08tTkhoR0hnZHBjQSIsInN0YXRlIjoiNGM2NGY5NTdkYTIyMmQ0OTJhNzY5MWMzMWNiZGJjODcifQ==\n"
          ]
        }
      ],
      "source": [
        "# Install and load the necessary packages\n",
        "if (!require(googledrive)) install.packages(\"googledrive\")\n",
        "if (!require(readr)) install.packages(\"readr\")\n",
        "\n",
        "library(googledrive)\n",
        "library(readr)\n",
        "\n",
        "# Authenticate and mount Google Drive (only required if you're working in Colab)\n",
        "drive_auth()"
      ]
    },
    {
      "cell_type": "markdown",
      "source": [
        "##Mounting Files"
      ],
      "metadata": {
        "id": "pPWjzZZkeUgS"
      }
    },
    {
      "cell_type": "code",
      "source": [
        "# Locate the folder ID for 'TextMining'\n",
        "folder_name <- \"Shared_Alzheimers_Drive\"  # Change this to your specific folder name\n",
        "folder_info <- drive_find(folder_name, type = \"folder\")\n",
        "\n",
        "if (nrow(folder_info) > 0) {\n",
        "  folder_id <- folder_info$id[1]  # Assuming there's only one folder with this name\n",
        "\n",
        "  # Now search for CSV files within this folder\n",
        "  file_list <- drive_ls(as_id(folder_id), type = \"csv\")\n",
        "\n",
        "  # Check if any CSV files are found\n",
        "  csv_files <- file_list$name\n",
        "  print(csv_files)\n",
        "\n",
        "  if (length(csv_files) > 0) {\n",
        "    # Get the file ID of the first CSV file\n",
        "    alz_file_id <- file_list$id[1]\n",
        "\n",
        "    # Download the CSV file to the local environment\n",
        "    drive_download(as_id(alz_file_id), path = \"alzheimers_disease_data.csv\", overwrite = TRUE)\n",
        "\n",
        "    # Read the downloaded CSV file\n",
        "    alzheimers_data <- read_csv(\"alzheimers_disease_data.csv\")\n",
        "\n",
        "    # Display column names and dimensions\n",
        "    print(names(alzheimers_data))\n",
        "    print(dim(alzheimers_data))\n",
        "  } else {\n",
        "    print(\"No CSV files found in the specified directory.\")\n",
        "  }\n",
        "} else {\n",
        "  print(\"Folder not found. Check the folder name.\")\n",
        "}"
      ],
      "metadata": {
        "id": "W3ZsFZV2eD6O",
        "colab": {
          "base_uri": "https://localhost:8080/"
        },
        "outputId": "f867b0a3-4ab8-4e6e-8861-55ceeabaf11a"
      },
      "execution_count": null,
      "outputs": [
        {
          "output_type": "stream",
          "name": "stdout",
          "text": [
            "[1] \"alzheimers_disease_data.csv\"\n"
          ]
        },
        {
          "output_type": "stream",
          "name": "stderr",
          "text": [
            "File downloaded:\n",
            "\n",
            "• \u001b[36malzheimers_disease_data.csv\u001b[39m \u001b[90m<id: 1Z81UI2ILAbRuSkS9fRURgpJwhUYJPgFx>\u001b[39m\n",
            "\n",
            "Saved locally as:\n",
            "\n",
            "• \u001b[34malzheimers_disease_data.csv\u001b[39m\n",
            "\n",
            "\u001b[1mRows: \u001b[22m\u001b[34m2149\u001b[39m \u001b[1mColumns: \u001b[22m\u001b[34m35\u001b[39m\n",
            "\u001b[36m──\u001b[39m \u001b[1mColumn specification\u001b[22m \u001b[36m────────────────────────────────────────────────────────\u001b[39m\n",
            "\u001b[1mDelimiter:\u001b[22m \",\"\n",
            "\u001b[31mchr\u001b[39m  (1): DoctorInCharge\n",
            "\u001b[32mdbl\u001b[39m (34): PatientID, Age, Gender, Ethnicity, EducationLevel, BMI, Smoking, A...\n",
            "\n",
            "\u001b[36mℹ\u001b[39m Use `spec()` to retrieve the full column specification for this data.\n",
            "\u001b[36mℹ\u001b[39m Specify the column types or set `show_col_types = FALSE` to quiet this message.\n"
          ]
        },
        {
          "output_type": "stream",
          "name": "stdout",
          "text": [
            " [1] \"PatientID\"                 \"Age\"                      \n",
            " [3] \"Gender\"                    \"Ethnicity\"                \n",
            " [5] \"EducationLevel\"            \"BMI\"                      \n",
            " [7] \"Smoking\"                   \"AlcoholConsumption\"       \n",
            " [9] \"PhysicalActivity\"          \"DietQuality\"              \n",
            "[11] \"SleepQuality\"              \"FamilyHistoryAlzheimers\"  \n",
            "[13] \"CardiovascularDisease\"     \"Diabetes\"                 \n",
            "[15] \"Depression\"                \"HeadInjury\"               \n",
            "[17] \"Hypertension\"              \"SystolicBP\"               \n",
            "[19] \"DiastolicBP\"               \"CholesterolTotal\"         \n",
            "[21] \"CholesterolLDL\"            \"CholesterolHDL\"           \n",
            "[23] \"CholesterolTriglycerides\"  \"MMSE\"                     \n",
            "[25] \"FunctionalAssessment\"      \"MemoryComplaints\"         \n",
            "[27] \"BehavioralProblems\"        \"ADL\"                      \n",
            "[29] \"Confusion\"                 \"Disorientation\"           \n",
            "[31] \"PersonalityChanges\"        \"DifficultyCompletingTasks\"\n",
            "[33] \"Forgetfulness\"             \"Diagnosis\"                \n",
            "[35] \"DoctorInCharge\"           \n",
            "[1] 2149   35\n"
          ]
        }
      ]
    },
    {
      "cell_type": "code",
      "source": [
        "# Initialize alz_df from the downloaded CSV file\n",
        "alz_df <- alzheimers_data\n",
        "\n",
        "# Preview the first few rows\n",
        "head(alz_df)\n",
        "\n",
        "# Summary statistics\n",
        "summary(alz_df)"
      ],
      "metadata": {
        "colab": {
          "base_uri": "https://localhost:8080/",
          "height": 1000
        },
        "id": "aiZ1NMbunKqm",
        "outputId": "b0043690-199d-4fc5-b475-ce63ef8ecb1a"
      },
      "execution_count": null,
      "outputs": [
        {
          "output_type": "display_data",
          "data": {
            "text/html": [
              "<table class=\"dataframe\">\n",
              "<caption>A tibble: 6 × 35</caption>\n",
              "<thead>\n",
              "\t<tr><th scope=col>PatientID</th><th scope=col>Age</th><th scope=col>Gender</th><th scope=col>Ethnicity</th><th scope=col>EducationLevel</th><th scope=col>BMI</th><th scope=col>Smoking</th><th scope=col>AlcoholConsumption</th><th scope=col>PhysicalActivity</th><th scope=col>DietQuality</th><th scope=col>⋯</th><th scope=col>MemoryComplaints</th><th scope=col>BehavioralProblems</th><th scope=col>ADL</th><th scope=col>Confusion</th><th scope=col>Disorientation</th><th scope=col>PersonalityChanges</th><th scope=col>DifficultyCompletingTasks</th><th scope=col>Forgetfulness</th><th scope=col>Diagnosis</th><th scope=col>DoctorInCharge</th></tr>\n",
              "\t<tr><th scope=col>&lt;dbl&gt;</th><th scope=col>&lt;dbl&gt;</th><th scope=col>&lt;dbl&gt;</th><th scope=col>&lt;dbl&gt;</th><th scope=col>&lt;dbl&gt;</th><th scope=col>&lt;dbl&gt;</th><th scope=col>&lt;dbl&gt;</th><th scope=col>&lt;dbl&gt;</th><th scope=col>&lt;dbl&gt;</th><th scope=col>&lt;dbl&gt;</th><th scope=col>⋯</th><th scope=col>&lt;dbl&gt;</th><th scope=col>&lt;dbl&gt;</th><th scope=col>&lt;dbl&gt;</th><th scope=col>&lt;dbl&gt;</th><th scope=col>&lt;dbl&gt;</th><th scope=col>&lt;dbl&gt;</th><th scope=col>&lt;dbl&gt;</th><th scope=col>&lt;dbl&gt;</th><th scope=col>&lt;dbl&gt;</th><th scope=col>&lt;chr&gt;</th></tr>\n",
              "</thead>\n",
              "<tbody>\n",
              "\t<tr><td>4751</td><td>73</td><td>0</td><td>0</td><td>2</td><td>22.92775</td><td>0</td><td>13.297218</td><td>6.3271125</td><td>1.3472143</td><td>⋯</td><td>0</td><td>0</td><td>1.72588346</td><td>0</td><td>0</td><td>0</td><td>1</td><td>0</td><td>0</td><td>XXXConfid</td></tr>\n",
              "\t<tr><td>4752</td><td>89</td><td>0</td><td>0</td><td>0</td><td>26.82768</td><td>0</td><td> 4.542524</td><td>7.6198845</td><td>0.5187671</td><td>⋯</td><td>0</td><td>0</td><td>2.59242413</td><td>0</td><td>0</td><td>0</td><td>0</td><td>1</td><td>0</td><td>XXXConfid</td></tr>\n",
              "\t<tr><td>4753</td><td>73</td><td>0</td><td>3</td><td>1</td><td>17.79588</td><td>0</td><td>19.555085</td><td>7.8449878</td><td>1.8263347</td><td>⋯</td><td>0</td><td>0</td><td>7.11954774</td><td>0</td><td>1</td><td>0</td><td>1</td><td>0</td><td>0</td><td>XXXConfid</td></tr>\n",
              "\t<tr><td>4754</td><td>74</td><td>1</td><td>0</td><td>1</td><td>33.80082</td><td>1</td><td>12.209266</td><td>8.4280014</td><td>7.4356041</td><td>⋯</td><td>0</td><td>1</td><td>6.48122586</td><td>0</td><td>0</td><td>0</td><td>0</td><td>0</td><td>0</td><td>XXXConfid</td></tr>\n",
              "\t<tr><td>4755</td><td>89</td><td>0</td><td>0</td><td>0</td><td>20.71697</td><td>0</td><td>18.454356</td><td>6.3104607</td><td>0.7954975</td><td>⋯</td><td>0</td><td>0</td><td>0.01469122</td><td>0</td><td>0</td><td>1</td><td>1</td><td>0</td><td>0</td><td>XXXConfid</td></tr>\n",
              "\t<tr><td>4756</td><td>86</td><td>1</td><td>1</td><td>1</td><td>30.62689</td><td>0</td><td> 4.140144</td><td>0.2110616</td><td>1.5849220</td><td>⋯</td><td>0</td><td>0</td><td>9.01568628</td><td>1</td><td>0</td><td>0</td><td>0</td><td>0</td><td>0</td><td>XXXConfid</td></tr>\n",
              "</tbody>\n",
              "</table>\n"
            ],
            "text/markdown": "\nA tibble: 6 × 35\n\n| PatientID &lt;dbl&gt; | Age &lt;dbl&gt; | Gender &lt;dbl&gt; | Ethnicity &lt;dbl&gt; | EducationLevel &lt;dbl&gt; | BMI &lt;dbl&gt; | Smoking &lt;dbl&gt; | AlcoholConsumption &lt;dbl&gt; | PhysicalActivity &lt;dbl&gt; | DietQuality &lt;dbl&gt; | ⋯ ⋯ | MemoryComplaints &lt;dbl&gt; | BehavioralProblems &lt;dbl&gt; | ADL &lt;dbl&gt; | Confusion &lt;dbl&gt; | Disorientation &lt;dbl&gt; | PersonalityChanges &lt;dbl&gt; | DifficultyCompletingTasks &lt;dbl&gt; | Forgetfulness &lt;dbl&gt; | Diagnosis &lt;dbl&gt; | DoctorInCharge &lt;chr&gt; |\n|---|---|---|---|---|---|---|---|---|---|---|---|---|---|---|---|---|---|---|---|---|\n| 4751 | 73 | 0 | 0 | 2 | 22.92775 | 0 | 13.297218 | 6.3271125 | 1.3472143 | ⋯ | 0 | 0 | 1.72588346 | 0 | 0 | 0 | 1 | 0 | 0 | XXXConfid |\n| 4752 | 89 | 0 | 0 | 0 | 26.82768 | 0 |  4.542524 | 7.6198845 | 0.5187671 | ⋯ | 0 | 0 | 2.59242413 | 0 | 0 | 0 | 0 | 1 | 0 | XXXConfid |\n| 4753 | 73 | 0 | 3 | 1 | 17.79588 | 0 | 19.555085 | 7.8449878 | 1.8263347 | ⋯ | 0 | 0 | 7.11954774 | 0 | 1 | 0 | 1 | 0 | 0 | XXXConfid |\n| 4754 | 74 | 1 | 0 | 1 | 33.80082 | 1 | 12.209266 | 8.4280014 | 7.4356041 | ⋯ | 0 | 1 | 6.48122586 | 0 | 0 | 0 | 0 | 0 | 0 | XXXConfid |\n| 4755 | 89 | 0 | 0 | 0 | 20.71697 | 0 | 18.454356 | 6.3104607 | 0.7954975 | ⋯ | 0 | 0 | 0.01469122 | 0 | 0 | 1 | 1 | 0 | 0 | XXXConfid |\n| 4756 | 86 | 1 | 1 | 1 | 30.62689 | 0 |  4.140144 | 0.2110616 | 1.5849220 | ⋯ | 0 | 0 | 9.01568628 | 1 | 0 | 0 | 0 | 0 | 0 | XXXConfid |\n\n",
            "text/latex": "A tibble: 6 × 35\n\\begin{tabular}{lllllllllllllllllllll}\n PatientID & Age & Gender & Ethnicity & EducationLevel & BMI & Smoking & AlcoholConsumption & PhysicalActivity & DietQuality & ⋯ & MemoryComplaints & BehavioralProblems & ADL & Confusion & Disorientation & PersonalityChanges & DifficultyCompletingTasks & Forgetfulness & Diagnosis & DoctorInCharge\\\\\n <dbl> & <dbl> & <dbl> & <dbl> & <dbl> & <dbl> & <dbl> & <dbl> & <dbl> & <dbl> & ⋯ & <dbl> & <dbl> & <dbl> & <dbl> & <dbl> & <dbl> & <dbl> & <dbl> & <dbl> & <chr>\\\\\n\\hline\n\t 4751 & 73 & 0 & 0 & 2 & 22.92775 & 0 & 13.297218 & 6.3271125 & 1.3472143 & ⋯ & 0 & 0 & 1.72588346 & 0 & 0 & 0 & 1 & 0 & 0 & XXXConfid\\\\\n\t 4752 & 89 & 0 & 0 & 0 & 26.82768 & 0 &  4.542524 & 7.6198845 & 0.5187671 & ⋯ & 0 & 0 & 2.59242413 & 0 & 0 & 0 & 0 & 1 & 0 & XXXConfid\\\\\n\t 4753 & 73 & 0 & 3 & 1 & 17.79588 & 0 & 19.555085 & 7.8449878 & 1.8263347 & ⋯ & 0 & 0 & 7.11954774 & 0 & 1 & 0 & 1 & 0 & 0 & XXXConfid\\\\\n\t 4754 & 74 & 1 & 0 & 1 & 33.80082 & 1 & 12.209266 & 8.4280014 & 7.4356041 & ⋯ & 0 & 1 & 6.48122586 & 0 & 0 & 0 & 0 & 0 & 0 & XXXConfid\\\\\n\t 4755 & 89 & 0 & 0 & 0 & 20.71697 & 0 & 18.454356 & 6.3104607 & 0.7954975 & ⋯ & 0 & 0 & 0.01469122 & 0 & 0 & 1 & 1 & 0 & 0 & XXXConfid\\\\\n\t 4756 & 86 & 1 & 1 & 1 & 30.62689 & 0 &  4.140144 & 0.2110616 & 1.5849220 & ⋯ & 0 & 0 & 9.01568628 & 1 & 0 & 0 & 0 & 0 & 0 & XXXConfid\\\\\n\\end{tabular}\n",
            "text/plain": [
              "  PatientID Age Gender Ethnicity EducationLevel BMI      Smoking\n",
              "1 4751      73  0      0         2              22.92775 0      \n",
              "2 4752      89  0      0         0              26.82768 0      \n",
              "3 4753      73  0      3         1              17.79588 0      \n",
              "4 4754      74  1      0         1              33.80082 1      \n",
              "5 4755      89  0      0         0              20.71697 0      \n",
              "6 4756      86  1      1         1              30.62689 0      \n",
              "  AlcoholConsumption PhysicalActivity DietQuality ⋯ MemoryComplaints\n",
              "1 13.297218          6.3271125        1.3472143   ⋯ 0               \n",
              "2  4.542524          7.6198845        0.5187671   ⋯ 0               \n",
              "3 19.555085          7.8449878        1.8263347   ⋯ 0               \n",
              "4 12.209266          8.4280014        7.4356041   ⋯ 0               \n",
              "5 18.454356          6.3104607        0.7954975   ⋯ 0               \n",
              "6  4.140144          0.2110616        1.5849220   ⋯ 0               \n",
              "  BehavioralProblems ADL        Confusion Disorientation PersonalityChanges\n",
              "1 0                  1.72588346 0         0              0                 \n",
              "2 0                  2.59242413 0         0              0                 \n",
              "3 0                  7.11954774 0         1              0                 \n",
              "4 1                  6.48122586 0         0              0                 \n",
              "5 0                  0.01469122 0         0              1                 \n",
              "6 0                  9.01568628 1         0              0                 \n",
              "  DifficultyCompletingTasks Forgetfulness Diagnosis DoctorInCharge\n",
              "1 1                         0             0         XXXConfid     \n",
              "2 0                         1             0         XXXConfid     \n",
              "3 1                         0             0         XXXConfid     \n",
              "4 0                         0             0         XXXConfid     \n",
              "5 1                         0             0         XXXConfid     \n",
              "6 0                         0             0         XXXConfid     "
            ]
          },
          "metadata": {}
        },
        {
          "output_type": "display_data",
          "data": {
            "text/plain": [
              "   PatientID         Age            Gender         Ethnicity     \n",
              " Min.   :4751   Min.   :60.00   Min.   :0.0000   Min.   :0.0000  \n",
              " 1st Qu.:5288   1st Qu.:67.00   1st Qu.:0.0000   1st Qu.:0.0000  \n",
              " Median :5825   Median :75.00   Median :1.0000   Median :0.0000  \n",
              " Mean   :5825   Mean   :74.91   Mean   :0.5063   Mean   :0.6975  \n",
              " 3rd Qu.:6362   3rd Qu.:83.00   3rd Qu.:1.0000   3rd Qu.:1.0000  \n",
              " Max.   :6899   Max.   :90.00   Max.   :1.0000   Max.   :3.0000  \n",
              " EducationLevel       BMI           Smoking       AlcoholConsumption \n",
              " Min.   :0.000   Min.   :15.01   Min.   :0.0000   Min.   : 0.002003  \n",
              " 1st Qu.:1.000   1st Qu.:21.61   1st Qu.:0.0000   1st Qu.: 5.139810  \n",
              " Median :1.000   Median :27.82   Median :0.0000   Median : 9.934412  \n",
              " Mean   :1.287   Mean   :27.66   Mean   :0.2885   Mean   :10.039442  \n",
              " 3rd Qu.:2.000   3rd Qu.:33.87   3rd Qu.:1.0000   3rd Qu.:15.157931  \n",
              " Max.   :3.000   Max.   :39.99   Max.   :1.0000   Max.   :19.989293  \n",
              " PhysicalActivity    DietQuality        SleepQuality    FamilyHistoryAlzheimers\n",
              " Min.   :0.003616   Min.   :0.009385   Min.   : 4.003   Min.   :0.0000         \n",
              " 1st Qu.:2.570626   1st Qu.:2.458455   1st Qu.: 5.483   1st Qu.:0.0000         \n",
              " Median :4.766424   Median :5.076087   Median : 7.116   Median :0.0000         \n",
              " Mean   :4.920202   Mean   :4.993138   Mean   : 7.051   Mean   :0.2522         \n",
              " 3rd Qu.:7.427899   3rd Qu.:7.558625   3rd Qu.: 8.563   3rd Qu.:1.0000         \n",
              " Max.   :9.987429   Max.   :9.998346   Max.   :10.000   Max.   :1.0000         \n",
              " CardiovascularDisease    Diabetes        Depression       HeadInjury    \n",
              " Min.   :0.0000        Min.   :0.0000   Min.   :0.0000   Min.   :0.0000  \n",
              " 1st Qu.:0.0000        1st Qu.:0.0000   1st Qu.:0.0000   1st Qu.:0.0000  \n",
              " Median :0.0000        Median :0.0000   Median :0.0000   Median :0.0000  \n",
              " Mean   :0.1443        Mean   :0.1508   Mean   :0.2006   Mean   :0.0926  \n",
              " 3rd Qu.:0.0000        3rd Qu.:0.0000   3rd Qu.:0.0000   3rd Qu.:0.0000  \n",
              " Max.   :1.0000        Max.   :1.0000   Max.   :1.0000   Max.   :1.0000  \n",
              "  Hypertension      SystolicBP     DiastolicBP     CholesterolTotal\n",
              " Min.   :0.0000   Min.   : 90.0   Min.   : 60.00   Min.   :150.1   \n",
              " 1st Qu.:0.0000   1st Qu.:112.0   1st Qu.: 74.00   1st Qu.:190.3   \n",
              " Median :0.0000   Median :134.0   Median : 91.00   Median :225.1   \n",
              " Mean   :0.1489   Mean   :134.3   Mean   : 89.85   Mean   :225.2   \n",
              " 3rd Qu.:0.0000   3rd Qu.:157.0   3rd Qu.:105.00   3rd Qu.:262.0   \n",
              " Max.   :1.0000   Max.   :179.0   Max.   :119.00   Max.   :300.0   \n",
              " CholesterolLDL   CholesterolHDL  CholesterolTriglycerides      MMSE          \n",
              " Min.   : 50.23   Min.   :20.00   Min.   : 50.41           Min.   : 0.005312  \n",
              " 1st Qu.: 87.20   1st Qu.:39.10   1st Qu.:137.58           1st Qu.: 7.167602  \n",
              " Median :123.34   Median :59.77   Median :230.30           Median :14.441660  \n",
              " Mean   :124.34   Mean   :59.46   Mean   :228.28           Mean   :14.755132  \n",
              " 3rd Qu.:161.73   3rd Qu.:78.94   3rd Qu.:314.84           3rd Qu.:22.161028  \n",
              " Max.   :199.97   Max.   :99.98   Max.   :399.94           Max.   :29.991381  \n",
              " FunctionalAssessment MemoryComplaints BehavioralProblems      ADL           \n",
              " Min.   :0.00046      Min.   :0.000    Min.   :0.0000     Min.   : 0.001288  \n",
              " 1st Qu.:2.56628      1st Qu.:0.000    1st Qu.:0.0000     1st Qu.: 2.342836  \n",
              " Median :5.09444      Median :0.000    Median :0.0000     Median : 5.038973  \n",
              " Mean   :5.08005      Mean   :0.208    Mean   :0.1568     Mean   : 4.982958  \n",
              " 3rd Qu.:7.54698      3rd Qu.:0.000    3rd Qu.:0.0000     3rd Qu.: 7.581490  \n",
              " Max.   :9.99647      Max.   :1.000    Max.   :1.0000     Max.   : 9.999747  \n",
              "   Confusion      Disorientation   PersonalityChanges DifficultyCompletingTasks\n",
              " Min.   :0.0000   Min.   :0.0000   Min.   :0.0000     Min.   :0.0000           \n",
              " 1st Qu.:0.0000   1st Qu.:0.0000   1st Qu.:0.0000     1st Qu.:0.0000           \n",
              " Median :0.0000   Median :0.0000   Median :0.0000     Median :0.0000           \n",
              " Mean   :0.2052   Mean   :0.1582   Mean   :0.1508     Mean   :0.1587           \n",
              " 3rd Qu.:0.0000   3rd Qu.:0.0000   3rd Qu.:0.0000     3rd Qu.:0.0000           \n",
              " Max.   :1.0000   Max.   :1.0000   Max.   :1.0000     Max.   :1.0000           \n",
              " Forgetfulness      Diagnosis      DoctorInCharge    \n",
              " Min.   :0.0000   Min.   :0.0000   Length:2149       \n",
              " 1st Qu.:0.0000   1st Qu.:0.0000   Class :character  \n",
              " Median :0.0000   Median :0.0000   Mode  :character  \n",
              " Mean   :0.3015   Mean   :0.3537                     \n",
              " 3rd Qu.:1.0000   3rd Qu.:1.0000                     \n",
              " Max.   :1.0000   Max.   :1.0000                     "
            ]
          },
          "metadata": {}
        }
      ]
    },
    {
      "cell_type": "markdown",
      "source": [
        "#Define Engineered Features/Aggregate Factors"
      ],
      "metadata": {
        "id": "jtj_eV1rfHJB"
      }
    },
    {
      "cell_type": "code",
      "source": [
        "# High Cholesterol\n",
        "cholesterolIndex <- function(CholesterolTotal, CholesterolLDL) {\n",
        "  if (CholesterolTotal >= 200 || CholesterolLDL >= 100) {\n",
        "    return(1)\n",
        "  } else {\n",
        "    return(0)\n",
        "  }\n",
        "}\n",
        "\n",
        "# Obesity Index\n",
        "obesityIndex <- function(BMI) {\n",
        "  if (BMI >= 30) {\n",
        "    return(1)\n",
        "  } else {\n",
        "    return(0)\n",
        "  }\n",
        "}\n",
        "\n",
        "# Health Index\n",
        "healthIndex <- function(BMI, SystolicBP, DiastolicBP, CholesterolTotal) {\n",
        "  return(BMI + SystolicBP + DiastolicBP + CholesterolTotal)\n",
        "}\n",
        "\n",
        "# Lifestyle Index\n",
        "lifestyleIndex <- function(DietQuality, PhysicalActivity, Smoking, Alcohol) {\n",
        "  return((DietQuality + PhysicalActivity - (Smoking + Alcohol)) / 4)\n",
        "}\n",
        "\n",
        "# Comorbidity Index\n",
        "comorbidityIndex <- function(Hypertension, Diabetes, HeartDisease) {\n",
        "  return(Hypertension + Diabetes + HeartDisease)\n",
        "}\n"
      ],
      "metadata": {
        "id": "dS3CzkPxfGVv"
      },
      "execution_count": null,
      "outputs": []
    },
    {
      "cell_type": "markdown",
      "source": [
        "#"
      ],
      "metadata": {
        "id": "CewGKSTiea6V"
      }
    },
    {
      "cell_type": "code",
      "source": [
        "# Assuming alz_df is a data frame in R\n",
        "\n",
        "alz_df$CholesterolIndex <- mapply(cholesterolIndex,\n",
        "                                  alz_df$CholesterolTotal,\n",
        "                                  alz_df$CholesterolLDL)\n",
        "\n",
        "alz_df$ObesityIndex <- mapply(obesityIndex, alz_df$BMI)\n",
        "\n",
        "alz_df$HealthIndex <- mapply(healthIndex,\n",
        "                             alz_df$BMI,\n",
        "                             alz_df$SystolicBP,\n",
        "                             alz_df$DiastolicBP,\n",
        "                             alz_df$CholesterolTotal)\n",
        "\n",
        "alz_df$LifestyleIndex <- mapply(lifestyleIndex,\n",
        "                                alz_df$DietQuality,\n",
        "                                alz_df$PhysicalActivity,\n",
        "                                alz_df$Smoking,\n",
        "                                alz_df$AlcoholConsumption)\n",
        "\n",
        "alz_df$ComorbidityIndex <- mapply(comorbidityIndex,\n",
        "                                  alz_df$Hypertension,\n",
        "                                  alz_df$Diabetes,\n",
        "                                  alz_df$CardiovascularDisease)\n"
      ],
      "metadata": {
        "id": "CpeZAO8AgUe5"
      },
      "execution_count": null,
      "outputs": []
    },
    {
      "cell_type": "code",
      "source": [
        "# Drop the column 'DoctorInCharge'\n",
        "alz_df <- alz_df[, !names(alz_df) %in% \"DoctorInCharge\"]\n",
        "\n",
        "# Display the first 10 rows\n",
        "head(alz_df, 10)\n"
      ],
      "metadata": {
        "colab": {
          "base_uri": "https://localhost:8080/",
          "height": 431
        },
        "id": "Yr7IcJKNgex5",
        "outputId": "7f76483d-ca73-4738-c41c-69512c640004"
      },
      "execution_count": null,
      "outputs": [
        {
          "output_type": "display_data",
          "data": {
            "text/html": [
              "<table class=\"dataframe\">\n",
              "<caption>A tibble: 10 × 39</caption>\n",
              "<thead>\n",
              "\t<tr><th scope=col>PatientID</th><th scope=col>Age</th><th scope=col>Gender</th><th scope=col>Ethnicity</th><th scope=col>EducationLevel</th><th scope=col>BMI</th><th scope=col>Smoking</th><th scope=col>AlcoholConsumption</th><th scope=col>PhysicalActivity</th><th scope=col>DietQuality</th><th scope=col>⋯</th><th scope=col>Disorientation</th><th scope=col>PersonalityChanges</th><th scope=col>DifficultyCompletingTasks</th><th scope=col>Forgetfulness</th><th scope=col>Diagnosis</th><th scope=col>CholesterolIndex</th><th scope=col>ObesityIndex</th><th scope=col>HealthIndex</th><th scope=col>LifestyleIndex</th><th scope=col>ComorbidityIndex</th></tr>\n",
              "\t<tr><th scope=col>&lt;dbl&gt;</th><th scope=col>&lt;dbl&gt;</th><th scope=col>&lt;dbl&gt;</th><th scope=col>&lt;dbl&gt;</th><th scope=col>&lt;dbl&gt;</th><th scope=col>&lt;dbl&gt;</th><th scope=col>&lt;dbl&gt;</th><th scope=col>&lt;dbl&gt;</th><th scope=col>&lt;dbl&gt;</th><th scope=col>&lt;dbl&gt;</th><th scope=col>⋯</th><th scope=col>&lt;dbl&gt;</th><th scope=col>&lt;dbl&gt;</th><th scope=col>&lt;dbl&gt;</th><th scope=col>&lt;dbl&gt;</th><th scope=col>&lt;dbl&gt;</th><th scope=col>&lt;dbl&gt;</th><th scope=col>&lt;dbl&gt;</th><th scope=col>&lt;dbl&gt;</th><th scope=col>&lt;dbl&gt;</th><th scope=col>&lt;dbl&gt;</th></tr>\n",
              "</thead>\n",
              "<tbody>\n",
              "\t<tr><td>4751</td><td>73</td><td>0</td><td>0</td><td>2</td><td>22.92775</td><td>0</td><td>13.2972177</td><td>6.3271125</td><td>1.3472143</td><td>⋯</td><td>0</td><td>0</td><td>1</td><td>0</td><td>0</td><td>1</td><td>0</td><td>479.2946</td><td>-1.4057227</td><td>1</td></tr>\n",
              "\t<tr><td>4752</td><td>89</td><td>0</td><td>0</td><td>0</td><td>26.82768</td><td>0</td><td> 4.5425238</td><td>7.6198845</td><td>0.5187671</td><td>⋯</td><td>0</td><td>0</td><td>0</td><td>1</td><td>0</td><td>1</td><td>0</td><td>436.9903</td><td> 0.8990320</td><td>0</td></tr>\n",
              "\t<tr><td>4753</td><td>73</td><td>0</td><td>3</td><td>1</td><td>17.79588</td><td>0</td><td>19.5550845</td><td>7.8449878</td><td>1.8263347</td><td>⋯</td><td>1</td><td>0</td><td>1</td><td>0</td><td>0</td><td>1</td><td>0</td><td>516.9777</td><td>-2.4709405</td><td>0</td></tr>\n",
              "\t<tr><td>4754</td><td>74</td><td>1</td><td>0</td><td>1</td><td>33.80082</td><td>1</td><td>12.2092655</td><td>8.4280014</td><td>7.4356041</td><td>⋯</td><td>0</td><td>0</td><td>0</td><td>0</td><td>0</td><td>0</td><td>1</td><td>426.3831</td><td> 0.6635850</td><td>0</td></tr>\n",
              "\t<tr><td>4755</td><td>89</td><td>0</td><td>0</td><td>0</td><td>20.71697</td><td>0</td><td>18.4543561</td><td>6.3104607</td><td>0.7954975</td><td>⋯</td><td>0</td><td>1</td><td>1</td><td>0</td><td>0</td><td>1</td><td>0</td><td>469.3192</td><td>-2.8370995</td><td>0</td></tr>\n",
              "\t<tr><td>4756</td><td>86</td><td>1</td><td>1</td><td>1</td><td>30.62689</td><td>0</td><td> 4.1401438</td><td>0.2110616</td><td>1.5849220</td><td>⋯</td><td>0</td><td>0</td><td>0</td><td>0</td><td>0</td><td>1</td><td>1</td><td>541.3394</td><td>-0.5860400</td><td>1</td></tr>\n",
              "\t<tr><td>4757</td><td>68</td><td>0</td><td>3</td><td>2</td><td>38.38762</td><td>1</td><td> 0.6460473</td><td>9.2576949</td><td>5.8973879</td><td>⋯</td><td>0</td><td>0</td><td>0</td><td>1</td><td>0</td><td>1</td><td>1</td><td>533.1218</td><td> 3.3772589</td><td>0</td></tr>\n",
              "\t<tr><td>4758</td><td>75</td><td>0</td><td>0</td><td>1</td><td>18.77601</td><td>0</td><td>13.7238257</td><td>4.6494507</td><td>8.3419032</td><td>⋯</td><td>0</td><td>0</td><td>0</td><td>1</td><td>1</td><td>0</td><td>0</td><td>350.1591</td><td>-0.1831180</td><td>0</td></tr>\n",
              "\t<tr><td>4759</td><td>72</td><td>1</td><td>1</td><td>0</td><td>27.83319</td><td>0</td><td>12.1678476</td><td>1.5313598</td><td>6.7368820</td><td>⋯</td><td>0</td><td>1</td><td>0</td><td>0</td><td>0</td><td>1</td><td>0</td><td>497.4389</td><td>-0.9749014</td><td>1</td></tr>\n",
              "\t<tr><td>4760</td><td>87</td><td>0</td><td>0</td><td>0</td><td>35.45630</td><td>1</td><td>16.0286882</td><td>6.4407727</td><td>8.0860191</td><td>⋯</td><td>0</td><td>0</td><td>0</td><td>0</td><td>0</td><td>1</td><td>1</td><td>525.0864</td><td>-0.6254741</td><td>1</td></tr>\n",
              "</tbody>\n",
              "</table>\n"
            ],
            "text/markdown": "\nA tibble: 10 × 39\n\n| PatientID &lt;dbl&gt; | Age &lt;dbl&gt; | Gender &lt;dbl&gt; | Ethnicity &lt;dbl&gt; | EducationLevel &lt;dbl&gt; | BMI &lt;dbl&gt; | Smoking &lt;dbl&gt; | AlcoholConsumption &lt;dbl&gt; | PhysicalActivity &lt;dbl&gt; | DietQuality &lt;dbl&gt; | ⋯ ⋯ | Disorientation &lt;dbl&gt; | PersonalityChanges &lt;dbl&gt; | DifficultyCompletingTasks &lt;dbl&gt; | Forgetfulness &lt;dbl&gt; | Diagnosis &lt;dbl&gt; | CholesterolIndex &lt;dbl&gt; | ObesityIndex &lt;dbl&gt; | HealthIndex &lt;dbl&gt; | LifestyleIndex &lt;dbl&gt; | ComorbidityIndex &lt;dbl&gt; |\n|---|---|---|---|---|---|---|---|---|---|---|---|---|---|---|---|---|---|---|---|---|\n| 4751 | 73 | 0 | 0 | 2 | 22.92775 | 0 | 13.2972177 | 6.3271125 | 1.3472143 | ⋯ | 0 | 0 | 1 | 0 | 0 | 1 | 0 | 479.2946 | -1.4057227 | 1 |\n| 4752 | 89 | 0 | 0 | 0 | 26.82768 | 0 |  4.5425238 | 7.6198845 | 0.5187671 | ⋯ | 0 | 0 | 0 | 1 | 0 | 1 | 0 | 436.9903 |  0.8990320 | 0 |\n| 4753 | 73 | 0 | 3 | 1 | 17.79588 | 0 | 19.5550845 | 7.8449878 | 1.8263347 | ⋯ | 1 | 0 | 1 | 0 | 0 | 1 | 0 | 516.9777 | -2.4709405 | 0 |\n| 4754 | 74 | 1 | 0 | 1 | 33.80082 | 1 | 12.2092655 | 8.4280014 | 7.4356041 | ⋯ | 0 | 0 | 0 | 0 | 0 | 0 | 1 | 426.3831 |  0.6635850 | 0 |\n| 4755 | 89 | 0 | 0 | 0 | 20.71697 | 0 | 18.4543561 | 6.3104607 | 0.7954975 | ⋯ | 0 | 1 | 1 | 0 | 0 | 1 | 0 | 469.3192 | -2.8370995 | 0 |\n| 4756 | 86 | 1 | 1 | 1 | 30.62689 | 0 |  4.1401438 | 0.2110616 | 1.5849220 | ⋯ | 0 | 0 | 0 | 0 | 0 | 1 | 1 | 541.3394 | -0.5860400 | 1 |\n| 4757 | 68 | 0 | 3 | 2 | 38.38762 | 1 |  0.6460473 | 9.2576949 | 5.8973879 | ⋯ | 0 | 0 | 0 | 1 | 0 | 1 | 1 | 533.1218 |  3.3772589 | 0 |\n| 4758 | 75 | 0 | 0 | 1 | 18.77601 | 0 | 13.7238257 | 4.6494507 | 8.3419032 | ⋯ | 0 | 0 | 0 | 1 | 1 | 0 | 0 | 350.1591 | -0.1831180 | 0 |\n| 4759 | 72 | 1 | 1 | 0 | 27.83319 | 0 | 12.1678476 | 1.5313598 | 6.7368820 | ⋯ | 0 | 1 | 0 | 0 | 0 | 1 | 0 | 497.4389 | -0.9749014 | 1 |\n| 4760 | 87 | 0 | 0 | 0 | 35.45630 | 1 | 16.0286882 | 6.4407727 | 8.0860191 | ⋯ | 0 | 0 | 0 | 0 | 0 | 1 | 1 | 525.0864 | -0.6254741 | 1 |\n\n",
            "text/latex": "A tibble: 10 × 39\n\\begin{tabular}{lllllllllllllllllllll}\n PatientID & Age & Gender & Ethnicity & EducationLevel & BMI & Smoking & AlcoholConsumption & PhysicalActivity & DietQuality & ⋯ & Disorientation & PersonalityChanges & DifficultyCompletingTasks & Forgetfulness & Diagnosis & CholesterolIndex & ObesityIndex & HealthIndex & LifestyleIndex & ComorbidityIndex\\\\\n <dbl> & <dbl> & <dbl> & <dbl> & <dbl> & <dbl> & <dbl> & <dbl> & <dbl> & <dbl> & ⋯ & <dbl> & <dbl> & <dbl> & <dbl> & <dbl> & <dbl> & <dbl> & <dbl> & <dbl> & <dbl>\\\\\n\\hline\n\t 4751 & 73 & 0 & 0 & 2 & 22.92775 & 0 & 13.2972177 & 6.3271125 & 1.3472143 & ⋯ & 0 & 0 & 1 & 0 & 0 & 1 & 0 & 479.2946 & -1.4057227 & 1\\\\\n\t 4752 & 89 & 0 & 0 & 0 & 26.82768 & 0 &  4.5425238 & 7.6198845 & 0.5187671 & ⋯ & 0 & 0 & 0 & 1 & 0 & 1 & 0 & 436.9903 &  0.8990320 & 0\\\\\n\t 4753 & 73 & 0 & 3 & 1 & 17.79588 & 0 & 19.5550845 & 7.8449878 & 1.8263347 & ⋯ & 1 & 0 & 1 & 0 & 0 & 1 & 0 & 516.9777 & -2.4709405 & 0\\\\\n\t 4754 & 74 & 1 & 0 & 1 & 33.80082 & 1 & 12.2092655 & 8.4280014 & 7.4356041 & ⋯ & 0 & 0 & 0 & 0 & 0 & 0 & 1 & 426.3831 &  0.6635850 & 0\\\\\n\t 4755 & 89 & 0 & 0 & 0 & 20.71697 & 0 & 18.4543561 & 6.3104607 & 0.7954975 & ⋯ & 0 & 1 & 1 & 0 & 0 & 1 & 0 & 469.3192 & -2.8370995 & 0\\\\\n\t 4756 & 86 & 1 & 1 & 1 & 30.62689 & 0 &  4.1401438 & 0.2110616 & 1.5849220 & ⋯ & 0 & 0 & 0 & 0 & 0 & 1 & 1 & 541.3394 & -0.5860400 & 1\\\\\n\t 4757 & 68 & 0 & 3 & 2 & 38.38762 & 1 &  0.6460473 & 9.2576949 & 5.8973879 & ⋯ & 0 & 0 & 0 & 1 & 0 & 1 & 1 & 533.1218 &  3.3772589 & 0\\\\\n\t 4758 & 75 & 0 & 0 & 1 & 18.77601 & 0 & 13.7238257 & 4.6494507 & 8.3419032 & ⋯ & 0 & 0 & 0 & 1 & 1 & 0 & 0 & 350.1591 & -0.1831180 & 0\\\\\n\t 4759 & 72 & 1 & 1 & 0 & 27.83319 & 0 & 12.1678476 & 1.5313598 & 6.7368820 & ⋯ & 0 & 1 & 0 & 0 & 0 & 1 & 0 & 497.4389 & -0.9749014 & 1\\\\\n\t 4760 & 87 & 0 & 0 & 0 & 35.45630 & 1 & 16.0286882 & 6.4407727 & 8.0860191 & ⋯ & 0 & 0 & 0 & 0 & 0 & 1 & 1 & 525.0864 & -0.6254741 & 1\\\\\n\\end{tabular}\n",
            "text/plain": [
              "   PatientID Age Gender Ethnicity EducationLevel BMI      Smoking\n",
              "1  4751      73  0      0         2              22.92775 0      \n",
              "2  4752      89  0      0         0              26.82768 0      \n",
              "3  4753      73  0      3         1              17.79588 0      \n",
              "4  4754      74  1      0         1              33.80082 1      \n",
              "5  4755      89  0      0         0              20.71697 0      \n",
              "6  4756      86  1      1         1              30.62689 0      \n",
              "7  4757      68  0      3         2              38.38762 1      \n",
              "8  4758      75  0      0         1              18.77601 0      \n",
              "9  4759      72  1      1         0              27.83319 0      \n",
              "10 4760      87  0      0         0              35.45630 1      \n",
              "   AlcoholConsumption PhysicalActivity DietQuality ⋯ Disorientation\n",
              "1  13.2972177         6.3271125        1.3472143   ⋯ 0             \n",
              "2   4.5425238         7.6198845        0.5187671   ⋯ 0             \n",
              "3  19.5550845         7.8449878        1.8263347   ⋯ 1             \n",
              "4  12.2092655         8.4280014        7.4356041   ⋯ 0             \n",
              "5  18.4543561         6.3104607        0.7954975   ⋯ 0             \n",
              "6   4.1401438         0.2110616        1.5849220   ⋯ 0             \n",
              "7   0.6460473         9.2576949        5.8973879   ⋯ 0             \n",
              "8  13.7238257         4.6494507        8.3419032   ⋯ 0             \n",
              "9  12.1678476         1.5313598        6.7368820   ⋯ 0             \n",
              "10 16.0286882         6.4407727        8.0860191   ⋯ 0             \n",
              "   PersonalityChanges DifficultyCompletingTasks Forgetfulness Diagnosis\n",
              "1  0                  1                         0             0        \n",
              "2  0                  0                         1             0        \n",
              "3  0                  1                         0             0        \n",
              "4  0                  0                         0             0        \n",
              "5  1                  1                         0             0        \n",
              "6  0                  0                         0             0        \n",
              "7  0                  0                         1             0        \n",
              "8  0                  0                         1             1        \n",
              "9  1                  0                         0             0        \n",
              "10 0                  0                         0             0        \n",
              "   CholesterolIndex ObesityIndex HealthIndex LifestyleIndex ComorbidityIndex\n",
              "1  1                0            479.2946    -1.4057227     1               \n",
              "2  1                0            436.9903     0.8990320     0               \n",
              "3  1                0            516.9777    -2.4709405     0               \n",
              "4  0                1            426.3831     0.6635850     0               \n",
              "5  1                0            469.3192    -2.8370995     0               \n",
              "6  1                1            541.3394    -0.5860400     1               \n",
              "7  1                1            533.1218     3.3772589     0               \n",
              "8  0                0            350.1591    -0.1831180     0               \n",
              "9  1                0            497.4389    -0.9749014     1               \n",
              "10 1                1            525.0864    -0.6254741     1               "
            ]
          },
          "metadata": {}
        }
      ]
    },
    {
      "cell_type": "code",
      "source": [
        "# Health Index Data Frames\n",
        "HIA <- alz_df[alz_df$Diagnosis == 1, \"HealthIndex\"]  # With Alzheimer's\n",
        "HIWA <- alz_df[alz_df$Diagnosis == 0, \"HealthIndex\"] # Without Alzheimer's\n",
        "\n",
        "# Lifestyle Index Data Frames\n",
        "LIA <- alz_df[alz_df$Diagnosis == 1, \"LifestyleIndex\"]  # With Alzheimer's\n",
        "LIWA <- alz_df[alz_df$Diagnosis == 0, \"LifestyleIndex\"] # Without Alzheimer's\n",
        "\n",
        "# Comorbidity Index Data Frames\n",
        "CIA <- alz_df[alz_df$Diagnosis == 1, \"ComorbidityIndex\"]  # With Alzheimer's\n",
        "CWA <- alz_df[alz_df$Diagnosis == 0, \"ComorbidityIndex\"] # Without Alzheimer's\n"
      ],
      "metadata": {
        "id": "xUp2xXDPgkkJ"
      },
      "execution_count": null,
      "outputs": []
    },
    {
      "cell_type": "code",
      "source": [
        "library(dplyr)\n",
        "\n",
        "# Correct Initialization\n",
        "HIA <- as_tibble(alz_df[alz_df$Diagnosis == 1, \"HealthIndex\"])\n",
        "HIWA <- as_tibble(alz_df[alz_df$Diagnosis == 0, \"HealthIndex\"])\n",
        "\n",
        "AgeA <- as_tibble(alz_df[alz_df$Diagnosis == 1, \"Age\"])\n",
        "AgeW <- as_tibble(alz_df[alz_df$Diagnosis == 0, \"Age\"])\n",
        "\n",
        "BMI <- as_tibble(alz_df[alz_df$Diagnosis == 1, \"BMI\"])\n",
        "BMIW <- as_tibble(alz_df[alz_df$Diagnosis == 0, \"BMI\"])\n",
        "\n",
        "AlA <- as_tibble(alz_df[alz_df$Diagnosis == 1, \"AlcoholConsumption\"])\n",
        "AlW <- as_tibble(alz_df[alz_df$Diagnosis == 0, \"AlcoholConsumption\"])\n",
        "\n",
        "PhysicalA <- as_tibble(alz_df[alz_df$Diagnosis == 1, \"PhysicalActivity\"])\n",
        "PhysicalW <- as_tibble(alz_df[alz_df$Diagnosis == 0, \"PhysicalActivity\"])\n",
        "\n",
        "DietA <- as_tibble(alz_df[alz_df$Diagnosis == 1, \"DietQuality\"])\n",
        "DietW <- as_tibble(alz_df[alz_df$Diagnosis == 0, \"DietQuality\"])\n",
        "\n",
        "SleepA <- as_tibble(alz_df[alz_df$Diagnosis == 1, \"SleepQuality\"])\n",
        "SleepW <- as_tibble(alz_df[alz_df$Diagnosis == 0, \"SleepQuality\"])\n"
      ],
      "metadata": {
        "id": "4jGhiN8tgsvH"
      },
      "execution_count": null,
      "outputs": []
    },
    {
      "cell_type": "code",
      "source": [
        "# Cholesterol Index Proportion\n",
        "CholIndProp <- sum(alz_df$Diagnosis == 1 & alz_df$CholesterolIndex == 1) / nrow(alz_df)\n",
        "cat(sprintf(\"Cholesterol Index: %.4f\\n\", CholIndProp))\n",
        "\n",
        "# Obesity Index Proportion\n",
        "ObIndProp <- sum(alz_df$Diagnosis == 1 & alz_df$ObesityIndex == 1) / nrow(alz_df)\n",
        "cat(sprintf(\"Obesity Index: %.4f\\n\", ObIndProp))\n",
        "\n",
        "# Smoking Index Proportion\n",
        "SmokIndProp <- sum(alz_df$Diagnosis == 1 & alz_df$Smoking == 1) / nrow(alz_df)\n",
        "cat(sprintf(\"Smoking Index: %.4f\\n\", SmokIndProp))\n",
        "\n",
        "# Education Level Proportion\n",
        "EdIndProp <- sum(alz_df$Diagnosis == 1 & alz_df$EducationLevel == 1) / nrow(alz_df)\n",
        "cat(sprintf(\"Education Proportion: %.4f\\n\", EdIndProp))\n"
      ],
      "metadata": {
        "colab": {
          "base_uri": "https://localhost:8080/"
        },
        "id": "p4WVrnXkg7zL",
        "outputId": "11cd4b14-2a2c-4cc3-9ab1-b0b1a3ae5e48"
      },
      "execution_count": null,
      "outputs": [
        {
          "output_type": "stream",
          "name": "stdout",
          "text": [
            "Cholesterol Index: 0.3150\n",
            "Obesity Index: 0.1498\n",
            "Smoking Index: 0.1010\n",
            "Education Proportion: 0.1405\n"
          ]
        }
      ]
    },
    {
      "cell_type": "markdown",
      "source": [
        "##Perform a bootstrap on the non-binary-Engineered indexes (For both Alz and non Alz)"
      ],
      "metadata": {
        "id": "Q2M7Lizup7Ht"
      }
    },
    {
      "cell_type": "markdown",
      "source": [
        "##Perform a Bootstrap on the non-binary non-engineered features"
      ],
      "metadata": {
        "id": "EfXpb8E1p9we"
      }
    },
    {
      "cell_type": "code",
      "source": [
        "# Univariate bootstraping\n",
        "# Perform a bootstrap on the non-binary-Engineered indexes (For both Alz and non Alz)\n",
        "bootstrapHealthA <- replicate(1000, HIA %>% sample_frac(replace = TRUE), simplify = FALSE)\n",
        "bootstrapHealthNA <- replicate(1000, HIWA %>% sample_frac(replace = TRUE), simplify = FALSE)\n",
        "\n",
        "bootstrapLifeA <- replicate(1000, LIA %>% sample_frac(replace = TRUE), simplify = FALSE)\n",
        "bootstrapLifeNA <- replicate(1000, LIWA %>% sample_frac(replace = TRUE), simplify = FALSE)\n",
        "\n",
        "bootstrapCIA <- replicate(1000, CIA %>% sample_frac(replace = TRUE), simplify = FALSE)\n",
        "bootstrapCWA <- replicate(1000, CWA %>% sample_frac(replace = TRUE), simplify = FALSE)\n",
        "\n",
        "# Perform a Bootstrap on the non-binary non-engineered features\n",
        "bootstrapAgeA <- replicate(1000, AgeA %>% sample_frac(replace = TRUE), simplify = FALSE)\n",
        "bootstrapAgeW <- replicate(1000, AgeW %>% sample_frac(replace = TRUE), simplify = FALSE)\n",
        "\n",
        "bootstrapBMIA <- replicate(1000, BMI %>% sample_frac(replace = TRUE), simplify = FALSE)\n",
        "bootstrapBMIW <- replicate(1000, BMIW %>% sample_frac(replace = TRUE), simplify = FALSE)\n",
        "\n",
        "bootstrapAlA <- replicate(1000, AlA %>% sample_frac(replace = TRUE), simplify = FALSE)\n",
        "bootstrapALW <- replicate(1000, AlW %>% sample_frac(replace = TRUE), simplify = FALSE)\n",
        "\n",
        "bootstrapPhysA <- replicate(1000, PhysicalA %>% sample_frac(replace = TRUE), simplify = FALSE)\n",
        "bootstrapPhysW <- replicate(1000, PhysicalW %>% sample_frac(replace = TRUE), simplify = FALSE)\n",
        "\n",
        "bootstrapDietA <- replicate(1000, DietA %>% sample_frac(replace = TRUE), simplify = FALSE)\n",
        "bootstrapDietW <- replicate(1000, DietW %>% sample_frac(replace = TRUE), simplify = FALSE)\n",
        "\n",
        "bootstrapSleepA <- replicate(1000, SleepA %>% sample_frac(replace = TRUE), simplify = FALSE)\n",
        "bootstrapSleepW <- replicate(1000, SleepW %>% sample_frac(replace = TRUE), simplify = FALSE)"
      ],
      "metadata": {
        "id": "cV6n7_c05fIz"
      },
      "execution_count": null,
      "outputs": []
    },
    {
      "cell_type": "code",
      "source": [
        "# Create a distribution of the means - Engineered\n",
        "MeansHealthA <- sapply(bootstrapHealthA, function(df) mean(df$HealthIndex))\n",
        "MeansHealthNA <- sapply(bootstrapHealthNA, function(df) mean(df$HealthIndex))\n",
        "MeansLifeA <- sapply(bootstrapLifeA, function(df) mean(df$LifestyleIndex))\n",
        "MeansLifeNA <- sapply(bootstrapLifeNA, function(df) mean(df$LifestyleIndex))\n",
        "MeansComA <- sapply(bootstrapCIA, function(df) mean(df$ComorbidityIndex))\n",
        "MeansComNA <- sapply(bootstrapCWA, function(df) mean(df$ComorbidityIndex))\n",
        "MeansSlpA <- sapply(bootstrapSleepA, function(df) mean(df$SleepQuality))\n",
        "MeansSlpNA <- sapply(bootstrapSleepW, function(df) mean(df$SleepQuality))"
      ],
      "metadata": {
        "id": "GpSuRqcw5gge"
      },
      "execution_count": null,
      "outputs": []
    },
    {
      "cell_type": "code",
      "source": [
        "# Generate Histograms for Engineered Features\n",
        "par(mfrow = c(2, 2))\n",
        "\n",
        "hist(MeansHealthA, main = \"Means Health Index Alzheimers vs No Alzheimers\", xlab = \"Value\", col = rgb(0, 0, 1, 0.5), border = \"black\")\n",
        "hist(MeansHealthNA, col = rgb(1, 0, 0, 0.5), border = \"black\", add = TRUE)\n",
        "legend(\"topright\", legend = c(\"Alzheimer's\", \"Not Alzheimer's\"), col = c(rgb(0, 0, 1, 0.5), rgb(1, 0, 0, 0.5)), lwd = 2)\n",
        "\n",
        "hist(MeansLifeA, main = \"Means Life Index Alzheimers vs No Alzheimers\", xlab = \"Value\", col = rgb(0, 0, 1, 0.5), border = \"black\")\n",
        "hist(MeansLifeNA, col = rgb(1, 0, 0, 0.5), border = \"black\", add = TRUE)\n",
        "legend(\"topright\", legend = c(\"Alzheimer's\", \"Not Alzheimer's\"), col = c(rgb(0, 0, 1, 0.5), rgb(1, 0, 0, 0.5)), lwd = 2)\n",
        "\n",
        "hist(MeansComA, main = \"Means Comorbidity Index Alzheimers vs No Alzheimers\", xlab = \"Value\", col = rgb(0, 0, 1, 0.5), border = \"black\")\n",
        "hist(MeansComNA, col = rgb(1, 0, 0, 0.5), border = \"black\", add = TRUE)\n",
        "legend(\"topright\", legend = c(\"Alzheimer's\", \"Not Alzheimer's\"), col = c(rgb(0, 0, 1, 0.5), rgb(1, 0, 0, 0.5)), lwd = 2)\n",
        "\n",
        "hist(MeansSlpA, main = \"Means Sleep Quality Alzheimers vs No Alzheimers\", xlab = \"Value\", col = rgb(0, 0, 1, 0.5), border = \"black\")\n",
        "hist(MeansSlpNA, col = rgb(1, 0, 0, 0.5), border = \"black\", add = TRUE)\n",
        "legend(\"topright\", legend = c(\"Alzheimer's\", \"Not Alzheimer's\"), col = c(rgb(0, 0, 1, 0.5), rgb(1, 0, 0, 0.5)), lwd = 2)"
      ],
      "metadata": {
        "colab": {
          "base_uri": "https://localhost:8080/",
          "height": 437
        },
        "id": "f_52LcI25lek",
        "outputId": "ac52b2d1-bc9f-48d2-8717-3a317954f08f"
      },
      "execution_count": null,
      "outputs": [
        {
          "output_type": "display_data",
          "data": {
            "text/plain": [
              "Plot with title “Means Sleep Quality Alzheimers vs No Alzheimers”"
            ],
            "image/png": "[encoded data removed]"
          },
          "metadata": {
            "image/png": {
              "width": 420,
              "height": 420
            }
          }
        }
      ]
    },
    {
      "cell_type": "code",
      "source": [
        "# Create a distribution of the means - Non-Engineered\n",
        "MeansAgeA <- sapply(bootstrapAgeA, function(df) mean(df$Age))\n",
        "MeansAgeW <- sapply(bootstrapAgeW, function(df) mean(df$Age))\n",
        "MeansBMIA <- sapply(bootstrapBMIA, function(df) mean(df$BMI))\n",
        "MeansBMIW <- sapply(bootstrapBMIW, function(df) mean(df$BMI))\n",
        "MeansALA <- sapply(bootstrapAlA, function(df) mean(df$AlcoholConsumption))\n",
        "MeansALW <- sapply(bootstrapALW, function(df) mean(df$AlcoholConsumption))\n",
        "MeansPhysA <- sapply(bootstrapPhysA, function(df) mean(df$PhysicalActivity))\n",
        "MeansPhysW <- sapply(bootstrapPhysW, function(df) mean(df$PhysicalActivity))\n",
        "MeansDietA <- sapply(bootstrapDietA, function(df) mean(df$DietQuality))\n",
        "MeansDietW <- sapply(bootstrapDietW, function(df) mean(df$DietQuality))"
      ],
      "metadata": {
        "id": "2ZEAOm4U5mwK"
      },
      "execution_count": null,
      "outputs": []
    },
    {
      "cell_type": "code",
      "source": [
        "par(mfrow = c(3, 2))\n",
        "\n",
        "hist(MeansAgeA, main = \"Means Age Alzheimers vs No Alzheimers\", xlab = \"Value\", col = rgb(0, 0, 1, 0.5), border = \"black\")\n",
        "hist(MeansAgeW, col = rgb(1, 0, 0, 0.5), border = \"black\", add = TRUE)\n",
        "legend(\"topright\", legend = c(\"Alzheimer's\", \"Not Alzheimer's\"), col = c(rgb(0, 0, 1, 0.5), rgb(1, 0, 0, 0.5)), lwd = 2)\n",
        "\n",
        "hist(MeansBMIA, main = \"Means BMI Alzheimers vs No Alzheimers\", xlab = \"Value\", col = rgb(0, 0, 1, 0.5), border = \"black\")\n",
        "hist(MeansBMIW, col = rgb(1, 0, 0, 0.5), border = \"black\", add = TRUE)\n",
        "legend(\"topright\", legend = c(\"Alzheimer's\", \"Not Alzheimer's\"), col = c(rgb(0, 0, 1, 0.5), rgb(1, 0, 0, 0.5)), lwd = 2)\n",
        "\n",
        "hist(MeansALA, main = \"Means Alcohol Consumption Alzheimers vs No Alzheimers\", xlab = \"Value\", col = rgb(0, 0, 1, 0.5), border = \"black\")\n",
        "hist(MeansALW, col = rgb(1, 0, 0, 0.5), border = \"black\", add = TRUE)\n",
        "legend(\"topright\", legend = c(\"Alzheimer's\", \"Not Alzheimer's\"), col = c(rgb(0, 0, 1, 0.5), rgb(1, 0, 0, 0.5)), lwd = 2)\n",
        "\n",
        "hist(MeansPhysA, main = \"Means Physical Activity Alzheimers vs No Alzheimers\", xlab = \"Value\", col = rgb(0, 0, 1, 0.5), border = \"black\")\n",
        "hist(MeansPhysW, col = rgb(1, 0, 0, 0.5), border = \"black\", add = TRUE)\n",
        "legend(\"topright\", legend = c(\"Alzheimer's\", \"Not Alzheimer's\"), col = c(rgb(0, 0, 1, 0.5), rgb(1, 0, 0, 0.5)), lwd = 2)\n",
        "\n",
        "hist(MeansDietA, main = \"Means Diet Alzheimers vs No Alzheimers\", xlab = \"Value\", col = rgb(0, 0, 1, 0.5), border = \"black\")\n",
        "hist(MeansDietW, col = rgb(1, 0, 0, 0.5), border = \"black\", add = TRUE)\n",
        "legend(\"topright\", legend = c(\"Alzheimer's\", \"Not Alzheimer's\"), col = c(rgb(0, 0, 1, 0.5), rgb(1, 0, 0, 0.5)), lwd = 2)\n"
      ],
      "metadata": {
        "colab": {
          "base_uri": "https://localhost:8080/",
          "height": 437
        },
        "id": "EM8r1A2e3L8e",
        "outputId": "c2d6ce03-5675-4c71-8d11-39b32e2640d5"
      },
      "execution_count": null,
      "outputs": [
        {
          "output_type": "display_data",
          "data": {
            "text/plain": [
              "Plot with title “Means Diet Alzheimers vs No Alzheimers”"
            ],
            "image/png": "[encoded data removed]"
          },
          "metadata": {
            "image/png": {
              "width": 420,
              "height": 420
            }
          }
        }
      ]
    },
    {
      "cell_type": "markdown",
      "source": [
        "#Logistic Regression Analysis"
      ],
      "metadata": {
        "id": "qLzOWxnsyPZY"
      }
    },
    {
      "cell_type": "code",
      "source": [
        "# Load necessary libraries\n",
        "library(caret)\n",
        "library(dplyr)\n",
        "install.packages(\"glmnet\")\n",
        "library(glmnet)"
      ],
      "metadata": {
        "id": "ooPn5T34zYH1",
        "colab": {
          "base_uri": "https://localhost:8080/"
        },
        "outputId": "c9c07113-7be5-46a0-bc40-b689c645a7bf"
      },
      "execution_count": null,
      "outputs": [
        {
          "output_type": "stream",
          "name": "stderr",
          "text": [
            "Installing package into ‘/usr/local/lib/R/site-library’\n",
            "(as ‘lib’ is unspecified)\n",
            "\n",
            "also installing the dependency ‘RcppEigen’\n",
            "\n",
            "\n",
            "Loaded glmnet 4.1-8\n",
            "\n"
          ]
        }
      ]
    },
    {
      "cell_type": "code",
      "source": [
        "# Define the columns to drop\n",
        "columns_to_drop <- c( \"Age\", \"Gender\", \"Ethnicity\",\n",
        "                     \"MMSE\", \"FunctionalAssessment\", \"MemoryComplaints\",\n",
        "                     \"BehavioralProblems\", \"ADL\", \"Confusion\",\n",
        "                     \"Disorientation\", \"PersonalityChanges\",\n",
        "                     \"DifficultyCompletingTasks\", \"Forgetfulness\"\n",
        "                     )\n",
        "\n",
        "# Drop the specified columns\n",
        "RelevantDF <- alz_df[, setdiff(names(alz_df), columns_to_drop)]\n"
      ],
      "metadata": {
        "id": "KYadlrdQg8sm"
      },
      "execution_count": null,
      "outputs": []
    },
    {
      "cell_type": "code",
      "source": [
        "# Drop PatientID and Diagnosis\n",
        "X <- alz_df %>% select(-PatientID, -Diagnosis)\n",
        "y <- alz_df$Diagnosis\n",
        "\n",
        "# Identify numerical and categorical columns\n",
        "numerical_cols <- names(X)[sapply(X, is.numeric)]\n",
        "categorical_cols <- names(X)[sapply(X, is.factor)]\n",
        "\n",
        "# Preprocess data: Scale numerical and encode categorical features\n",
        "preprocess <- preProcess(X[numerical_cols], method = c(\"center\", \"scale\"))\n",
        "X_scaled <- predict(preprocess, X[numerical_cols])\n",
        "\n",
        "# One-hot encoding for categorical features\n",
        "if (length(categorical_cols) > 0) {\n",
        "  X_encoded <- model.matrix(~ . - 1, data = X[categorical_cols, , drop = FALSE])\n",
        "} else {\n",
        "  X_encoded <- NULL\n",
        "}\n",
        "\n",
        "# Combine scaled and encoded features\n",
        "if (!is.null(X_encoded)) {\n",
        "  X_preprocessed <- as.matrix(cbind(X_scaled, X_encoded))\n",
        "} else {\n",
        "  X_preprocessed <- as.matrix(X_scaled)\n",
        "}\n",
        "\n",
        "# Load required library\n",
        "library(pROC)\n",
        "\n",
        "# Cross-validation setup\n",
        "set.seed(42)\n",
        "cv_folds <- createFolds(y, k = 5, list = TRUE)\n",
        "\n",
        "# Perform cross-validation for L1 Regularization (Lasso)\n",
        "cv_results <- lapply(cv_folds, function(train_idx) {\n",
        "  X_train <- X_preprocessed[train_idx, , drop = FALSE]\n",
        "  y_train <- y[train_idx]\n",
        "  X_test <- X_preprocessed[-train_idx, , drop = FALSE]\n",
        "  y_test <- y[-train_idx]\n",
        "\n",
        "  # Train the model\n",
        "  logistic_model <- cv.glmnet(X_train, y_train, family = \"binomial\", alpha = 1)\n",
        "\n",
        "  # Make predictions\n",
        "  predictions <- predict(logistic_model, X_test, s = \"lambda.min\", type = \"response\")\n",
        "\n",
        "  # Calculate performance (e.g., AUC)\n",
        "  auc_score <- roc(y_test, predictions)$auc\n",
        "  list(model = logistic_model, auc = auc_score)\n",
        "})\n",
        "\n",
        "# Extract average AUC\n",
        "average_auc <- mean(sapply(cv_results, function(res) res$auc))\n",
        "cat(\"Average AUC from cross-validation:\", average_auc, \"\\n\")\n",
        "\n",
        "# Extract feature importances from final model\n",
        "final_model <- cv_results[[which.max(sapply(cv_results, function(res) res$auc))]]$model\n",
        "coefficients <- as.vector(coef(final_model, s = \"lambda.min\")[-1])\n",
        "\n",
        "# Combine feature names and coefficients\n",
        "all_feature_names <- colnames(X_preprocessed)\n",
        "feature_importances <- data.frame(\n",
        "  Feature = all_feature_names,\n",
        "  Coefficient = coefficients\n",
        ") %>% arrange(desc(Coefficient))\n",
        "\n",
        "# Display top 10 positive and negative features\n",
        "cat(\"Top 10 features with positive correlation:\\n\")\n",
        "print(head(feature_importances, 10))\n",
        "\n",
        "cat(\"\\nTop 10 features with inverse correlation:\\n\")\n",
        "print(tail(feature_importances, 10))\n"
      ],
      "metadata": {
        "colab": {
          "base_uri": "https://localhost:8080/"
        },
        "id": "svaDFnZYlFXu",
        "outputId": "f76507bd-5fb5-43b7-baa4-0f0829ea9061"
      },
      "execution_count": null,
      "outputs": [
        {
          "output_type": "stream",
          "name": "stderr",
          "text": [
            "Type 'citation(\"pROC\")' for a citation.\n",
            "\n",
            "\n",
            "Attaching package: ‘pROC’\n",
            "\n",
            "\n",
            "The following object is masked from ‘package:Metrics’:\n",
            "\n",
            "    auc\n",
            "\n",
            "\n",
            "The following objects are masked from ‘package:stats’:\n",
            "\n",
            "    cov, smooth, var\n",
            "\n",
            "\n",
            "Setting levels: control = 0, case = 1\n",
            "\n",
            "Warning message in roc.default(y_test, predictions):\n",
            "“Deprecated use a matrix as predictor. Unexpected results may be produced, please pass a numeric vector.”\n",
            "Setting direction: controls < cases\n",
            "\n",
            "Setting levels: control = 0, case = 1\n",
            "\n",
            "Warning message in roc.default(y_test, predictions):\n",
            "“Deprecated use a matrix as predictor. Unexpected results may be produced, please pass a numeric vector.”\n",
            "Setting direction: controls < cases\n",
            "\n",
            "Setting levels: control = 0, case = 1\n",
            "\n",
            "Warning message in roc.default(y_test, predictions):\n",
            "“Deprecated use a matrix as predictor. Unexpected results may be produced, please pass a numeric vector.”\n",
            "Setting direction: controls < cases\n",
            "\n",
            "Setting levels: control = 0, case = 1\n",
            "\n",
            "Warning message in roc.default(y_test, predictions):\n",
            "“Deprecated use a matrix as predictor. Unexpected results may be produced, please pass a numeric vector.”\n",
            "Setting direction: controls < cases\n",
            "\n",
            "Setting levels: control = 0, case = 1\n",
            "\n",
            "Warning message in roc.default(y_test, predictions):\n",
            "“Deprecated use a matrix as predictor. Unexpected results may be produced, please pass a numeric vector.”\n",
            "Setting direction: controls < cases\n",
            "\n"
          ]
        },
        {
          "output_type": "stream",
          "name": "stdout",
          "text": [
            "Average AUC from cross-validation: 0.8937192 \n",
            "Top 10 features with positive correlation:\n",
            "              Feature  Coefficient\n",
            "1    MemoryComplaints 0.7889297037\n",
            "2  BehavioralProblems 0.6662374078\n",
            "3      CholesterolHDL 0.2156310816\n",
            "4       Forgetfulness 0.0748945811\n",
            "5                 Age 0.0131904042\n",
            "6    CholesterolTotal 0.0043117431\n",
            "7      LifestyleIndex 0.0009711579\n",
            "8              Gender 0.0000000000\n",
            "9      EducationLevel 0.0000000000\n",
            "10            Smoking 0.0000000000\n",
            "\n",
            "Top 10 features with inverse correlation:\n",
            "                Feature Coefficient\n",
            "28     ComorbidityIndex  0.00000000\n",
            "29           SystolicBP -0.03337941\n",
            "30            Confusion -0.06729025\n",
            "31       CholesterolLDL -0.07769664\n",
            "32       Disorientation -0.10101350\n",
            "33                  BMI -0.10793121\n",
            "34            Ethnicity -0.18126137\n",
            "35                 MMSE -0.65702573\n",
            "36                  ADL -0.82644340\n",
            "37 FunctionalAssessment -0.97794284\n"
          ]
        }
      ]
    },
    {
      "cell_type": "markdown",
      "source": [
        "#Random Forest"
      ],
      "metadata": {
        "id": "Kb1CYP_g6Bjr"
      }
    },
    {
      "cell_type": "code",
      "source": [
        "# Load necessary libraries\n",
        "library(caret)\n",
        "install.packages(\"randomForest\")\n",
        "library(randomForest)"
      ],
      "metadata": {
        "colab": {
          "base_uri": "https://localhost:8080/"
        },
        "id": "cPqX5-KMz1vd",
        "outputId": "c5693e59-5cd9-4b85-91b9-68448d65cd48"
      },
      "execution_count": null,
      "outputs": [
        {
          "output_type": "stream",
          "name": "stderr",
          "text": [
            "Installing package into ‘/usr/local/lib/R/site-library’\n",
            "(as ‘lib’ is unspecified)\n",
            "\n",
            "randomForest 4.7-1.2\n",
            "\n",
            "Type rfNews() to see new features/changes/bug fixes.\n",
            "\n",
            "\n",
            "Attaching package: ‘randomForest’\n",
            "\n",
            "\n",
            "The following object is masked from ‘package:ggplot2’:\n",
            "\n",
            "    margin\n",
            "\n",
            "\n",
            "The following object is masked from ‘package:dplyr’:\n",
            "\n",
            "    combine\n",
            "\n",
            "\n"
          ]
        }
      ]
    },
    {
      "cell_type": "code",
      "source": [
        "# Prepare features and target\n",
        "X <- alz_df %>% select(-PatientID, -Diagnosis)\n",
        "y <- alz_df$Diagnosis\n",
        "\n",
        "# Train-test split\n",
        "set.seed(42)\n",
        "train_idx <- createDataPartition(y, p=0.8, list=FALSE)\n",
        "X_train <- X[train_idx, ]\n",
        "X_test <- X[-train_idx, ]\n",
        "y_train <- y[train_idx]\n",
        "y_test <- y[-train_idx]\n",
        "\n",
        "# Train Random Forest model\n",
        "rf_model <- randomForest(X_train, as.factor(y_train), ntree=100, random_state=42)\n",
        "\n",
        "# Predict on test data\n",
        "y_pred <- predict(rf_model, X_test)\n",
        "y_pred_proba <- predict(rf_model, X_test, type=\"prob\")[, 2]\n",
        "\n",
        "# Evaluate the model\n",
        "cat(\"Classification Report:\\n\")\n",
        "conf_matrix <- confusionMatrix(as.factor(y_pred), as.factor(y_test))\n",
        "print(conf_matrix)"
      ],
      "metadata": {
        "colab": {
          "base_uri": "https://localhost:8080/"
        },
        "id": "oYauQTc-mlqT",
        "outputId": "0f0ab999-30b2-4f99-a686-0f828b1db662"
      },
      "execution_count": null,
      "outputs": [
        {
          "output_type": "stream",
          "name": "stdout",
          "text": [
            "Classification Report:\n",
            "Confusion Matrix and Statistics\n",
            "\n",
            "          Reference\n",
            "Prediction   0   1\n",
            "         0 266  17\n",
            "         1   7 139\n",
            "                                          \n",
            "               Accuracy : 0.9441          \n",
            "                 95% CI : (0.9179, 0.9638)\n",
            "    No Information Rate : 0.6364          \n",
            "    P-Value [Acc > NIR] : < 2e-16         \n",
            "                                          \n",
            "                  Kappa : 0.8774          \n",
            "                                          \n",
            " Mcnemar's Test P-Value : 0.06619         \n",
            "                                          \n",
            "            Sensitivity : 0.9744          \n",
            "            Specificity : 0.8910          \n",
            "         Pos Pred Value : 0.9399          \n",
            "         Neg Pred Value : 0.9521          \n",
            "             Prevalence : 0.6364          \n",
            "         Detection Rate : 0.6200          \n",
            "   Detection Prevalence : 0.6597          \n",
            "      Balanced Accuracy : 0.9327          \n",
            "                                          \n",
            "       'Positive' Class : 0               \n",
            "                                          \n"
          ]
        }
      ]
    },
    {
      "cell_type": "code",
      "source": [
        "# Extract feature importances\n",
        "importance_scores <- as.data.frame(importance(rf_model))\n",
        "\n",
        "# Combine feature names and importances\n",
        "feature_importances <- data.frame(\n",
        "  Feature = rownames(importance_scores),\n",
        "  Importance = importance_scores$MeanDecreaseGini\n",
        ") %>% arrange(desc(Importance))\n",
        "\n",
        "# Display feature importances\n",
        "cat(\"Top 10 highest correlated features:\\n\")\n",
        "print(head(feature_importances, 10))\n",
        "\n",
        "cat(\"\\nTop 10 lowest correlated features:\\n\")\n",
        "print(tail(feature_importances, 10))\n"
      ],
      "metadata": {
        "colab": {
          "base_uri": "https://localhost:8080/"
        },
        "id": "WKPGiEaqm0u6",
        "outputId": "d4644436-bf0d-4652-ae2c-773c2bcefb88"
      },
      "execution_count": null,
      "outputs": [
        {
          "output_type": "stream",
          "name": "stdout",
          "text": [
            "Top 10 highest correlated features:\n",
            "                    Feature Importance\n",
            "1      FunctionalAssessment  147.18284\n",
            "2                       ADL  133.78409\n",
            "3                      MMSE   89.39524\n",
            "4          MemoryComplaints   61.81743\n",
            "5        BehavioralProblems   39.40063\n",
            "6            CholesterolHDL   21.11990\n",
            "7          PhysicalActivity   20.57989\n",
            "8               DietQuality   20.43365\n",
            "9  CholesterolTriglycerides   20.19731\n",
            "10                      BMI   20.12377\n",
            "\n",
            "Top 10 lowest correlated features:\n",
            "                     Feature Importance\n",
            "28              ObesityIndex   2.406990\n",
            "29              Hypertension   2.314048\n",
            "30                    Gender   2.162310\n",
            "31                 Confusion   2.069976\n",
            "32                  Diabetes   2.016816\n",
            "33        PersonalityChanges   1.988475\n",
            "34            Disorientation   1.931357\n",
            "35                HeadInjury   1.720937\n",
            "36 DifficultyCompletingTasks   1.686683\n",
            "37          CholesterolIndex   1.684019\n"
          ]
        }
      ]
    },
    {
      "cell_type": "markdown",
      "source": [
        "#Multi-Variate Bootstrap + Logistic Regression Analysis"
      ],
      "metadata": {
        "id": "s0tpthAT6Tys"
      }
    },
    {
      "cell_type": "code",
      "source": [
        "library(dplyr)\n",
        "library(caret)\n",
        "\n",
        "# Extract features and labels\n",
        "X <- alz_df %>% select(-PatientID, -Diagnosis)\n",
        "y <- alz_df$Diagnosis\n",
        "\n",
        "# Combine features and labels into one data frame\n",
        "data <- cbind(X, y)\n",
        "\n",
        "# Number of bootstraps\n",
        "n_bootstraps <- 1000\n",
        "\n",
        "# Store bootstrapped samples\n",
        "bootstrapped_X <- list()\n",
        "bootstrapped_y <- list()\n",
        "\n",
        "set.seed(123)  # for reproducibility\n",
        "\n",
        "for (i in 1:n_bootstraps) {\n",
        "  # Bootstrap entire dataset (rows)\n",
        "  boot_data <- data[sample(nrow(data), replace = TRUE), ]\n",
        "\n",
        "  # Extract features and labels\n",
        "  X_boot <- boot_data %>% select(-y)\n",
        "  y_boot <- boot_data$y\n",
        "\n",
        "  # Store bootstrapped samples\n",
        "  bootstrapped_X[[i]] <- X_boot\n",
        "  bootstrapped_y[[i]] <- y_boot\n",
        "}"
      ],
      "metadata": {
        "id": "9YktqT686SIJ"
      },
      "execution_count": null,
      "outputs": []
    },
    {
      "cell_type": "code",
      "source": [
        "library(glmnet)\n",
        "\n",
        "# Initialize coefficient storage\n",
        "coef_matrix <- matrix(0, nrow = n_bootstraps, ncol = ncol(X))\n",
        "\n",
        "# Perform cross-validation for each bootstrap sample\n",
        "for (i in 1:n_bootstraps) {\n",
        "  # Extract bootstrapped samples\n",
        "  X_boot <- as.matrix(bootstrapped_X[[i]])\n",
        "  y_boot <- bootstrapped_y[[i]]\n",
        "\n",
        "  # Perform cross-validation with L1 regularization\n",
        "  cv_model <- cv.glmnet(X_boot, y_boot, family = \"binomial\", alpha = 1)\n",
        "\n",
        "  # Extract coefficients from the best model\n",
        "  best_lambda <- cv_model$lambda.min\n",
        "  final_model <- glmnet(X_boot, y_boot, family = \"binomial\", alpha = 1, lambda = best_lambda)\n",
        "\n",
        "  # Store coefficients\n",
        "  coef_matrix[i, ] <- as.vector(coef(final_model)[-1])  # Exclude intercept\n",
        "}\n"
      ],
      "metadata": {
        "id": "8b8Skhy26s81"
      },
      "execution_count": null,
      "outputs": []
    },
    {
      "cell_type": "code",
      "source": [
        "# Load required libraries\n",
        "library(dplyr)\n",
        "\n",
        "# Compute statistics\n",
        "coef_means <- apply(coef_matrix, 2, mean)\n",
        "coef_stds <- apply(coef_matrix, 2, sd)\n",
        "\n",
        "# Confidence Intervals (95%)\n",
        "lower_bound <- apply(coef_matrix, 2, quantile, probs = 0.025)\n",
        "upper_bound <- apply(coef_matrix, 2, quantile, probs = 0.975)\n",
        "\n",
        "# Prepare Results\n",
        "important_features <- data.frame(\n",
        "  Feature = seq_len(ncol(X)),\n",
        "  Mean_Coefficient = coef_means,\n",
        "  Lower_Bound = lower_bound,\n",
        "  Upper_Bound = upper_bound\n",
        ")\n",
        "\n",
        "# Filter significant features (where CI excludes zero)\n",
        "important_features <- important_features %>%\n",
        "  filter(Lower_Bound > 0 | Upper_Bound < 0)\n",
        "\n",
        "# Display Results\n",
        "feature_indices <- important_features$Feature\n",
        "print(feature_indices)\n",
        "\n",
        "featureArray <- colnames(alz_df)[feature_indices]\n",
        "print(featureArray)\n",
        "\n"
      ],
      "metadata": {
        "id": "HWW3YQVu6noa",
        "colab": {
          "base_uri": "https://localhost:8080/"
        },
        "outputId": "5a280151-bb76-4f1a-9bb6-230e73b74496"
      },
      "execution_count": null,
      "outputs": [
        {
          "output_type": "stream",
          "name": "stdout",
          "text": [
            "[1] 23 24 25 26 27\n",
            "[1] \"CholesterolTriglycerides\" \"MMSE\"                    \n",
            "[3] \"FunctionalAssessment\"     \"MemoryComplaints\"        \n",
            "[5] \"BehavioralProblems\"      \n"
          ]
        }
      ]
    },
    {
      "cell_type": "markdown",
      "source": [
        "#Calculate the P Value of CholestorolLDL"
      ],
      "metadata": {
        "id": "GxonbftpvR6L"
      }
    },
    {
      "cell_type": "code",
      "source": [
        "# Load necessary libraries\n",
        "library(dplyr)\n",
        "library(glmnet)\n",
        "\n",
        "# Initialize coefficient storage\n",
        "coef_matrix <- matrix(0, nrow = n_bootstraps, ncol = ncol(X))\n",
        "\n",
        "# Perform cross-validation for each bootstrap sample\n",
        "for (i in 1:n_bootstraps) {\n",
        "  X_boot <- as.matrix(bootstrapped_X[[i]])\n",
        "  y_boot <- bootstrapped_y[[i]]\n",
        "\n",
        "  # Fit model with cross-validation\n",
        "  cv_model <- cv.glmnet(X_boot, y_boot, family = \"binomial\", alpha = 1)\n",
        "  best_lambda <- cv_model$lambda.min\n",
        "\n",
        "  # Final model fit\n",
        "  final_model <- glmnet(X_boot, y_boot, family = \"binomial\", alpha = 1, lambda = best_lambda)\n",
        "\n",
        "  # Store coefficients (excluding intercept)\n",
        "  coef_matrix[i, ] <- as.vector(coef(final_model)[-1])\n",
        "}\n",
        "\n",
        "# Compute statistics\n",
        "coef_means <- apply(coef_matrix, 2, mean)\n",
        "coef_stds <- apply(coef_matrix, 2, sd)\n",
        "\n",
        "# Compute t-statistics and p-values\n",
        "t_stats <- coef_means / coef_stds\n",
        "p_values <- 2 * (1 - pnorm(abs(t_stats)))  # Two-tailed p-values\n",
        "\n",
        "# Combine results into a data frame\n",
        "results <- data.frame(\n",
        "  Feature = colnames(X),\n",
        "  Mean_Coefficient = coef_means,\n",
        "  Std_Error = coef_stds,\n",
        "  t_Statistic = t_stats,\n",
        "  p_Value = p_values\n",
        ")\n",
        "\n",
        "# Display results without filtering\n",
        "print(results)\n"
      ],
      "metadata": {
        "colab": {
          "base_uri": "https://localhost:8080/"
        },
        "id": "0wcTl_X7vda7",
        "outputId": "f7f3400f-0364-4cc4-fb6c-e2cccddf6afe"
      },
      "execution_count": null,
      "outputs": [
        {
          "output_type": "stream",
          "name": "stdout",
          "text": [
            "                     Feature Mean_Coefficient    Std_Error  t_Statistic\n",
            "1                        Age    -6.802993e-03 0.0058118679  -1.17053475\n",
            "2                     Gender    -3.074676e-02 0.0816219806  -0.37669703\n",
            "3                  Ethnicity    -2.433816e-02 0.0446574238  -0.54499692\n",
            "4             EducationLevel    -5.865747e-02 0.0561862113  -1.04398338\n",
            "5                        BMI    -1.092761e-03 0.0058329671  -0.18734225\n",
            "6                    Smoking    -1.477099e-01 0.1189694620  -1.24157855\n",
            "7         AlcoholConsumption    -4.265807e-03 0.0072538373  -0.58807589\n",
            "8           PhysicalActivity    -4.388815e-03 0.0123933712  -0.35412598\n",
            "9                DietQuality     5.283051e-03 0.0137970016   0.38291297\n",
            "10              SleepQuality    -3.852887e-02 0.0304157651  -1.26674001\n",
            "11   FamilyHistoryAlzheimers    -6.503668e-02 0.0983514952  -0.66126788\n",
            "12     CardiovascularDisease     8.231090e-02 0.1235219297   0.66636668\n",
            "13                  Diabetes    -1.379302e-02 0.0935608887  -0.14742294\n",
            "14                Depression     3.160522e-02 0.1053411927   0.30002715\n",
            "15                HeadInjury    -2.163307e-01 0.1868032677  -1.15806723\n",
            "16              Hypertension     1.105757e-01 0.1408619837   0.78499303\n",
            "17                SystolicBP    -4.223525e-04 0.0014316708  -0.29500670\n",
            "18               DiastolicBP     1.012719e-03 0.0022274403   0.45465597\n",
            "19          CholesterolTotal     3.216926e-04 0.0008395261   0.38318362\n",
            "20            CholesterolLDL    -1.955817e-03 0.0013727276  -1.42476702\n",
            "21            CholesterolHDL     3.293811e-03 0.0024219835   1.35996409\n",
            "22  CholesterolTriglycerides     5.051967e-04 0.0004997982   1.01080134\n",
            "23                      MMSE    -9.919700e-02 0.0082003339 -12.09670283\n",
            "24      FunctionalAssessment    -4.194370e-01 0.0276365739 -15.17688121\n",
            "25          MemoryComplaints     2.420109e+00 0.1790552530  13.51598759\n",
            "26        BehavioralProblems     2.299479e+00 0.1971375487  11.66433598\n",
            "27                       ADL    -3.910915e-01 0.0283374268 -13.80123455\n",
            "28                 Confusion    -9.406433e-02 0.1154123466  -0.81502832\n",
            "29            Disorientation    -8.019570e-02 0.1198130054  -0.66934051\n",
            "30        PersonalityChanges    -3.934477e-02 0.1185269248  -0.33194794\n",
            "31 DifficultyCompletingTasks     4.975215e-02 0.1150442481   0.43246099\n",
            "32             Forgetfulness     6.823065e-03 0.0808445495   0.08439734\n",
            "33          CholesterolIndex    -9.920367e-02 0.1471917033  -0.67397599\n",
            "34              ObesityIndex    -3.527664e-02 0.0919375930  -0.38370207\n",
            "35               HealthIndex     5.594953e-05 0.0004552782   0.12289086\n",
            "36            LifestyleIndex     5.981484e-03 0.0161246065   0.37095380\n",
            "37          ComorbidityIndex     3.136021e-02 0.0582842501   0.53805631\n",
            "     p_Value\n",
            "1  0.2417858\n",
            "2  0.7063988\n",
            "3  0.5857556\n",
            "4  0.2964931\n",
            "5  0.8513923\n",
            "6  0.2143921\n",
            "7  0.5564814\n",
            "8  0.7232445\n",
            "9  0.7017843\n",
            "10 0.2052483\n",
            "11 0.5084405\n",
            "12 0.5051768\n",
            "13 0.8827982\n",
            "14 0.7641564\n",
            "15 0.2468366\n",
            "16 0.4324577\n",
            "17 0.7679888\n",
            "18 0.6493568\n",
            "19 0.7015836\n",
            "20 0.1542246\n",
            "21 0.1738413\n",
            "22 0.3121115\n",
            "23 0.0000000\n",
            "24 0.0000000\n",
            "25 0.0000000\n",
            "26 0.0000000\n",
            "27 0.0000000\n",
            "28 0.4150561\n",
            "29 0.5032783\n",
            "30 0.7399286\n",
            "31 0.6654064\n",
            "32 0.9327405\n",
            "33 0.5003266\n",
            "34 0.7011993\n",
            "35 0.9021935\n",
            "36 0.7106719\n",
            "37 0.5905382\n"
          ]
        }
      ]
    }
  ]
}